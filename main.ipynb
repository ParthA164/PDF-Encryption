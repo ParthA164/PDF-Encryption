{
 "cells": [
  {
   "cell_type": "code",
   "execution_count": 2,
   "id": "finnish-encyclopedia",
   "metadata": {},
   "outputs": [],
   "source": [
    "# !pip install PyPDF2"
   ]
  },
  {
   "cell_type": "code",
   "execution_count": 3,
   "id": "known-substance",
   "metadata": {},
   "outputs": [],
   "source": [
    "from PyPDF2 import PdfReader,PdfWriter"
   ]
  },
  {
   "cell_type": "code",
   "execution_count": null,
   "id": "fifteen-globe",
   "metadata": {},
   "outputs": [],
   "source": [
    "### open the current pdf\n",
    "file_pdf=PdfReader('file1.pdf')\n",
    "### Object for pdf writer\n",
    "out_pdf=PdfWriter()"
   ]
  },
  {
   "cell_type": "code",
   "execution_count": null,
   "id": "altered-influence",
   "metadata": {},
   "outputs": [
    {
     "data": {
      "text/plain": [
       "<PyPDF2._reader.PdfReader at 0x24536550470>"
      ]
     },
     "execution_count": 24,
     "metadata": {},
     "output_type": "execute_result"
    }
   ],
   "source": [
    "file_pdf"
   ]
  },
  {
   "cell_type": "code",
   "execution_count": null,
   "id": "critical-technique",
   "metadata": {},
   "outputs": [],
   "source": [
    "for i in range(len(file_pdf.pages)):\n",
    "    page_details=file_pdf.pages[i]\n",
    "    ### Add to the output page\n",
    "    out_pdf.add_page(page_details)"
   ]
  },
  {
   "cell_type": "code",
   "execution_count": null,
   "id": "surrounded-chart",
   "metadata": {},
   "outputs": [],
   "source": [
    "password=\"1234@\"\n",
    "\n",
    "out_pdf.encrypt(password)"
   ]
  },
  {
   "cell_type": "code",
   "execution_count": null,
   "id": "divided-horror",
   "metadata": {},
   "outputs": [],
   "source": [
    "with open(\"encryptedfile1.pdf\",\"wb\") as filename:\n",
    "    out_pdf.write(filename)"
   ]
  },
  {
   "cell_type": "code",
   "execution_count": null,
   "id": "metric-difficulty",
   "metadata": {},
   "outputs": [],
   "source": []
  }
 ],
 "metadata": {
  "kernelspec": {
   "display_name": "Python 3",
   "language": "python",
   "name": "python3"
  },
  "language_info": {
   "codemirror_mode": {
    "name": "ipython",
    "version": 3
   },
   "file_extension": ".py",
   "mimetype": "text/x-python",
   "name": "python",
   "nbconvert_exporter": "python",
   "pygments_lexer": "ipython3",
   "version": "3.12.1"
  }
 },
 "nbformat": 4,
 "nbformat_minor": 5
}
